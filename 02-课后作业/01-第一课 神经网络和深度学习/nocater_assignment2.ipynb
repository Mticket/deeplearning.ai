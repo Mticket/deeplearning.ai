{
 "cells": [
  {
   "cell_type": "code",
   "execution_count": 1,
   "metadata": {},
   "outputs": [],
   "source": [
    "import numpy as np\n",
    "import time"
   ]
  },
  {
   "cell_type": "code",
   "execution_count": 8,
   "metadata": {},
   "outputs": [
    {
     "name": "stdout",
     "output_type": "stream",
     "text": [
      "250123.94454583232\n",
      "Vectorized version:1.0676383972167969ms\n",
      "250123.94454582286\n",
      "For loop:388.2730007171631ms\n"
     ]
    }
   ],
   "source": [
    "a = np.random.rand(1000000)\n",
    "b = np.random.rand(1000000)\n",
    "\n",
    "tic = time.time()\n",
    "c = np.dot(a,b)\n",
    "toc = time.time()\n",
    "print(c)\n",
    "print('Vectorized version:'+str(1000*(toc-tic))+'ms')\n",
    "\n",
    "c = 0\n",
    "tic = time.time()\n",
    "for i in range(1000000):\n",
    "    c += a[i]*b[i]\n",
    "toc = time.time()\n",
    "print(c)\n",
    "print('For loop:'+str(1000*(toc-tic))+'ms')"
   ]
  },
  {
   "cell_type": "code",
   "execution_count": 67,
   "metadata": {},
   "outputs": [],
   "source": [
    "def sigmoid(x):\n",
    "    s = 1/(1+np.exp(-x))\n",
    "    return s"
   ]
  },
  {
   "cell_type": "code",
   "execution_count": 12,
   "metadata": {},
   "outputs": [
    {
     "name": "stdout",
     "output_type": "stream",
     "text": [
      "[0.73105858 0.88079708 0.95257413]\n"
     ]
    }
   ],
   "source": [
    "x = np.array([1,2,3])\n",
    "print(sigmod(x))"
   ]
  },
  {
   "cell_type": "code",
   "execution_count": 25,
   "metadata": {},
   "outputs": [
    {
     "name": "stdout",
     "output_type": "stream",
     "text": [
      "[ 59.  239.  155.4  76.9]\n",
      "[[94.91525424  0.          2.83140283 88.42652796]]\n"
     ]
    }
   ],
   "source": [
    "data = np.array([\n",
    "    [56.0,0.0,4.4,68.0],\n",
    "    [1.2,104.0,52.0,8.0],\n",
    "    [1.8,135.0,99.0,0.9]\n",
    "])\n",
    "\n",
    "cal = data.sum(axis=0)\n",
    "print(cal)\n",
    "percentage = 100*data/cal.reshape(1,4)\n",
    "print(percentage[:1])"
   ]
  },
  {
   "cell_type": "code",
   "execution_count": 26,
   "metadata": {},
   "outputs": [
    {
     "name": "stdout",
     "output_type": "stream",
     "text": [
      "[0.07001837 0.51334504 0.30227176 0.94413465 0.55810136]\n"
     ]
    }
   ],
   "source": [
    "a = np.random.rand(5)\n",
    "print(a)"
   ]
  },
  {
   "cell_type": "code",
   "execution_count": 27,
   "metadata": {},
   "outputs": [
    {
     "name": "stdout",
     "output_type": "stream",
     "text": [
      "(5,)\n"
     ]
    }
   ],
   "source": [
    "print(a.shape)"
   ]
  },
  {
   "cell_type": "code",
   "execution_count": 28,
   "metadata": {},
   "outputs": [
    {
     "name": "stdout",
     "output_type": "stream",
     "text": [
      "[0.07001837 0.51334504 0.30227176 0.94413465 0.55810136]\n"
     ]
    }
   ],
   "source": [
    "print(a.T)"
   ]
  },
  {
   "cell_type": "code",
   "execution_count": 30,
   "metadata": {},
   "outputs": [
    {
     "name": "stdout",
     "output_type": "stream",
     "text": [
      "1.5626612896881777\n"
     ]
    }
   ],
   "source": [
    "print(np.dot(a,a.T))"
   ]
  },
  {
   "cell_type": "code",
   "execution_count": 31,
   "metadata": {},
   "outputs": [],
   "source": [
    "a = np.random.rand(5,1)"
   ]
  },
  {
   "cell_type": "code",
   "execution_count": 32,
   "metadata": {},
   "outputs": [
    {
     "name": "stdout",
     "output_type": "stream",
     "text": [
      "[[0.57577756 0.82622532 0.73223484 0.81973042 0.42275418]]\n"
     ]
    }
   ],
   "source": [
    "print(a.T)"
   ]
  },
  {
   "cell_type": "code",
   "execution_count": 33,
   "metadata": {},
   "outputs": [
    {
     "name": "stdout",
     "output_type": "stream",
     "text": [
      "[[0.3315198  0.47572201 0.4216044  0.47198238 0.24341237]\n",
      " [0.47572201 0.68264829 0.60499097 0.67728203 0.34929021]\n",
      " [0.4216044  0.60499097 0.53616787 0.60023518 0.30955534]\n",
      " [0.47198238 0.67728203 0.60023518 0.67195796 0.34654446]\n",
      " [0.24341237 0.34929021 0.30955534 0.34654446 0.17872109]]\n"
     ]
    }
   ],
   "source": [
    "print(np.dot(a,a.T))"
   ]
  },
  {
   "cell_type": "code",
   "execution_count": 37,
   "metadata": {},
   "outputs": [
    {
     "ename": "AssertionError",
     "evalue": "",
     "output_type": "error",
     "traceback": [
      "\u001b[0;31m---------------------------------------------------------------------------\u001b[0m",
      "\u001b[0;31mAssertionError\u001b[0m                            Traceback (most recent call last)",
      "\u001b[0;32m<ipython-input-37-33636bf89276>\u001b[0m in \u001b[0;36m<module>\u001b[0;34m()\u001b[0m\n\u001b[0;32m----> 1\u001b[0;31m \u001b[0;32massert\u001b[0m\u001b[0;34m(\u001b[0m\u001b[0ma\u001b[0m\u001b[0;34m.\u001b[0m\u001b[0mshape\u001b[0m \u001b[0;34m==\u001b[0m \u001b[0;34m(\u001b[0m\u001b[0;36m5\u001b[0m\u001b[0;34m,\u001b[0m\u001b[0;36m2\u001b[0m\u001b[0;34m)\u001b[0m\u001b[0;34m)\u001b[0m\u001b[0;34m\u001b[0m\u001b[0m\n\u001b[0m",
      "\u001b[0;31mAssertionError\u001b[0m: "
     ]
    }
   ],
   "source": [
    "assert(a.shape == (5,2))"
   ]
  },
  {
   "cell_type": "code",
   "execution_count": 38,
   "metadata": {},
   "outputs": [],
   "source": [
    "def initialize_with_zero(dim):\n",
    "    w = np.zeros((dim,1))\n",
    "    b = 0\n",
    "    return w,b"
   ]
  },
  {
   "cell_type": "code",
   "execution_count": 41,
   "metadata": {},
   "outputs": [
    {
     "name": "stdout",
     "output_type": "stream",
     "text": [
      "[[0.]\n",
      " [0.]] 0\n"
     ]
    }
   ],
   "source": [
    "w , b = initialize_with_zero(2)\n",
    "print(w,b)"
   ]
  },
  {
   "cell_type": "code",
   "execution_count": 48,
   "metadata": {},
   "outputs": [],
   "source": [
    "def propagate(w,b,X,Y):\n",
    "    m = X.shape[1]\n",
    "    A = sigmod(np.dot(w.T,X)+b)\n",
    "    cost = -1 / m * np.sum(Y*np.log(A) + (1-Y)*np.log(1-A))\n",
    "    dw = 1/m * np.dot(X,(A-Y).T)\n",
    "    db = 1/m * np.sum(A - Y)\n",
    "    assert(dw.shape == w.shape)\n",
    "    assert(db.dtype == float)\n",
    "    cost = np.squeeze(cost)\n",
    "    assert(cost.shape == ())\n",
    "    grads = {'dw':dw,'db':db}\n",
    "    return grads,cost"
   ]
  },
  {
   "cell_type": "code",
   "execution_count": 49,
   "metadata": {},
   "outputs": [
    {
     "name": "stdout",
     "output_type": "stream",
     "text": [
      "dw = [[0.99993216]\n",
      " [1.99980262]]\n",
      "db = 0.49993523062470574\n",
      "cost = 6.000064773192205\n"
     ]
    }
   ],
   "source": [
    "w, b, X, Y = np.array([[1],[2]]), 2, np.array([[1,2],[3,4]]), np.array([[1,0]])\n",
    "grads, cost = propagate(w, b, X, Y)\n",
    "print (\"dw = \" + str(grads[\"dw\"]))\n",
    "print (\"db = \" + str(grads[\"db\"]))\n",
    "print (\"cost = \" + str(cost))"
   ]
  },
  {
   "cell_type": "code",
   "execution_count": 90,
   "metadata": {},
   "outputs": [],
   "source": [
    "def optimize(w,b,X,Y,num_iterations,learning_rate,print_cost = False):\n",
    "    costs = []\n",
    "    for i in range(num_iterations):\n",
    "        grads,cost = propagate(w,b,X,Y)\n",
    "        dw = grads['dw']\n",
    "        db = grads['db']\n",
    "        w = w - learning_rate * dw\n",
    "        b = b - learning_rate * db\n",
    "        if i % 100 == 0:\n",
    "            print(f'Cost after {i} is {cost}')\n",
    "            costs.append(cost)\n",
    "    params = {'w':w,'b':b}\n",
    "    grads = {'dw':dw, 'db':db}\n",
    "    return params, grads, costs"
   ]
  },
  {
   "cell_type": "code",
   "execution_count": 54,
   "metadata": {},
   "outputs": [
    {
     "name": "stdout",
     "output_type": "stream",
     "text": [
      "Cost after100 is 6.000064773192205\n",
      "w = [[0.99100061]\n",
      " [1.98200178]]\n",
      "b = 1.9955005829243777\n",
      "dw = [[0.99993216]\n",
      " [1.99980262]]\n",
      "db = 0.49993523062470574\n",
      "[6.000064773192205]\n"
     ]
    }
   ],
   "source": [
    "params, grads, costs = optimize(w, b, X, Y, num_iterations= 100, learning_rate = 0.009, print_cost = False)\n",
    "\n",
    "print (\"w = \" + str(params[\"w\"]))\n",
    "print (\"b = \" + str(params[\"b\"]))\n",
    "print (\"dw = \" + str(grads[\"dw\"]))\n",
    "print (\"db = \" + str(grads[\"db\"]))\n",
    "print(costs)"
   ]
  },
  {
   "cell_type": "code",
   "execution_count": 68,
   "metadata": {},
   "outputs": [],
   "source": [
    "def predict(w,b,X):\n",
    "    m = X.shape[1]\n",
    "    Y_predict = np.zeros((1,m))\n",
    "    w = w.reshape(X.shape[0],1)\n",
    "    A = sigmoid(np.dot(w.T, X) + b)\n",
    "    for i in range(A.shape[1]):\n",
    "        Y_predict[:,(A<0.5).nonzero()] = 0\n",
    "        Y_predict[:,(A>=0.5).nonzero()] = 1\n",
    "    assert(Y_predict.shape == (1,m))\n",
    "    return Y_predict"
   ]
  },
  {
   "cell_type": "code",
   "execution_count": 69,
   "metadata": {},
   "outputs": [
    {
     "name": "stdout",
     "output_type": "stream",
     "text": [
      "predictions = [[1. 1.]]\n"
     ]
    }
   ],
   "source": [
    "print (\"predictions = \" + str(predict(w, b, X)))"
   ]
  },
  {
   "cell_type": "code",
   "execution_count": 94,
   "metadata": {},
   "outputs": [],
   "source": [
    "def model(X_train, Y_train, X_test, Y_test, num_iterations = 2000, learning_rate = 0.5, print_cost = False):\n",
    "    w,b = initialize_with_zero(X_train.shape[0])\n",
    "    params, grads, costs = optimize(w, b, X_train, Y_train, num_iterations, learning_rate, print_cost)\n",
    "    w = params[\"w\"]\n",
    "    b = params[\"b\"]\n",
    "    Y_predict_train = predict(w,b,X_train)\n",
    "    Y_predict_test = predict(w,b,X_test)\n",
    "    print(f'train accuracy: {100 - np.mean(np.abs(Y_predict_train - Y_train)) * 100} %')\n",
    "    print(f'test accuracy: {100 - np.mean(np.abs(Y_predict_test - Y_test)) * 100} %') \n",
    "    d = {\"costs\": costs,\n",
    "         \"Y_prediction_test\": Y_predict_test, \n",
    "         \"Y_prediction_train\" : Y_predict_train, \n",
    "         \"w\" : w, \n",
    "         \"b\" : b,\n",
    "         \"learning_rate\" : learning_rate,\n",
    "         \"num_iterations\": num_iterations}\n",
    "    return d"
   ]
  },
  {
   "cell_type": "code",
   "execution_count": 95,
   "metadata": {},
   "outputs": [
    {
     "name": "stdout",
     "output_type": "stream",
     "text": [
      "Cost after 0 is 0.6931471805599453\n",
      "Cost after 100 is 0.5845083636993086\n",
      "Cost after 200 is 0.4669490409465547\n",
      "Cost after 300 is 0.37600686694802077\n",
      "Cost after 400 is 0.3314632893282512\n",
      "Cost after 500 is 0.30327306747438293\n",
      "Cost after 600 is 0.2798795865826048\n",
      "Cost after 700 is 0.2600421369258757\n",
      "Cost after 800 is 0.2429406846779662\n",
      "Cost after 900 is 0.22800422256726066\n",
      "Cost after 1000 is 0.21481951378449635\n",
      "Cost after 1100 is 0.20307819060644988\n",
      "Cost after 1200 is 0.19254427716706862\n",
      "Cost after 1300 is 0.18303333796883509\n",
      "Cost after 1400 is 0.1743985943844888\n",
      "Cost after 1500 is 0.16652139705400335\n",
      "Cost after 1600 is 0.15930451829756614\n",
      "Cost after 1700 is 0.15266732471296504\n",
      "Cost after 1800 is 0.1465422350398234\n",
      "Cost after 1900 is 0.14087207570310162\n",
      "train accuracy: 98.56459330143541 %\n",
      "test accuracy: 70.0 %\n"
     ]
    }
   ],
   "source": [
    "import numpy as np\n",
    "import matplotlib.pyplot as plt\n",
    "import h5py\n",
    "import scipy\n",
    "from PIL import Image\n",
    "from scipy import ndimage\n",
    "from lr_utils import load_dataset\n",
    "train_set_x_orig, train_set_y, test_set_x_orig, test_set_y, classes = load_dataset()\n",
    "\n",
    "m_train = train_set_x_orig.shape[0]\n",
    "m_test = test_set_x_orig.shape[0]\n",
    "num_px = train_set_x_orig.shape[1]\n",
    "\n",
    "train_set_x_flatten = train_set_x_orig.reshape(train_set_x_orig.shape[0], -1).T\n",
    "test_set_x_flatten = test_set_x_orig.reshape(test_set_x_orig.shape[0], -1).T\n",
    "\n",
    "\n",
    "train_set_x = train_set_x_flatten/255.\n",
    "test_set_x = test_set_x_flatten/255.\n",
    "\n",
    "d = model(train_set_x, train_set_y, test_set_x, test_set_y, num_iterations = 2000, learning_rate = 0.005, print_cost = True)"
   ]
  },
  {
   "cell_type": "code",
   "execution_count": 102,
   "metadata": {},
   "outputs": [
    {
     "name": "stdout",
     "output_type": "stream",
     "text": [
      "y = 1, you predicted that it is a \"cat\" picture.\n"
     ]
    },
    {
     "data": {
      "image/png": "[encoded data removed]",
      "text/plain": [
       "<matplotlib.figure.Figure at 0x7f0d9a130400>"
      ]
     },
     "metadata": {},
     "output_type": "display_data"
    }
   ],
   "source": [
    "index = 1\n",
    "plt.imshow(test_set_x[:,index].reshape((num_px,num_px,3)))\n",
    "print (\"y = \" + str(test_set_y[0,index]) + \", you predicted that it is a \\\"\" + classes[int(d[\"Y_prediction_test\"][0,index])].decode(\"utf-8\") +  \"\\\" picture.\")"
   ]
  },
  {
   "cell_type": "code",
   "execution_count": 103,
   "metadata": {},
   "outputs": [
    {
     "data": {
      "image/png": "[encoded data removed]",
      "text/plain": [
       "<matplotlib.figure.Figure at 0x7f0d9a168780>"
      ]
     },
     "metadata": {},
     "output_type": "display_data"
    }
   ],
   "source": [
    "costs = np.squeeze(d['costs'])\n",
    "plt.plot(costs)\n",
    "plt.ylabel('cost')\n",
    "plt.xlabel('iterations(per hundreds)')\n",
    "plt.show()"
   ]
  },
  {
   "cell_type": "code",
   "execution_count": 104,
   "metadata": {
    "scrolled": true
   },
   "outputs": [
    {
     "name": "stdout",
     "output_type": "stream",
     "text": [
      "learning rate is [0.01, 0.001, 0.0001]\n",
      "Cost after 0 is 0.6931471805599453\n",
      "Cost after 100 is 0.8239208681628492\n",
      "Cost after 200 is 0.41894435617990905\n",
      "Cost after 300 is 0.6173497044442353\n",
      "Cost after 400 is 0.522115771143772\n",
      "Cost after 500 is 0.38770874841422076\n",
      "Cost after 600 is 0.23625445672268533\n",
      "Cost after 700 is 0.15422213306419108\n",
      "Cost after 800 is 0.13532782831668685\n",
      "Cost after 900 is 0.12497148000450928\n",
      "Cost after 1000 is 0.11647833125802606\n",
      "Cost after 1100 is 0.10919251128268528\n",
      "Cost after 1200 is 0.10280446418272612\n",
      "Cost after 1300 is 0.09712981007993493\n",
      "Cost after 1400 is 0.09204326923636809\n",
      "train accuracy: 99.04306220095694 %\n",
      "test accuracy: 68.0 %\n",
      "learning rate is [0.01, 0.001, 0.0001]\n",
      "Cost after 0 is 0.6931471805599453\n",
      "Cost after 100 is 0.5912894260003537\n",
      "Cost after 200 is 0.5557961107127088\n",
      "Cost after 300 is 0.5289765131562366\n",
      "Cost after 400 is 0.5068812917435517\n",
      "Cost after 500 is 0.4878798632171657\n",
      "Cost after 600 is 0.47110827803124367\n",
      "Cost after 700 is 0.456045809698285\n",
      "Cost after 800 is 0.4423502279336529\n",
      "Cost after 900 is 0.42978171535077836\n",
      "Cost after 1000 is 0.4181638209364327\n",
      "Cost after 1100 is 0.40736174995821905\n",
      "Cost after 1200 is 0.39726946872697994\n",
      "Cost after 1300 is 0.3878016072295409\n",
      "Cost after 1400 is 0.37888813035939567\n",
      "train accuracy: 88.51674641148325 %\n",
      "test accuracy: 64.0 %\n",
      "learning rate is [0.01, 0.001, 0.0001]\n",
      "Cost after 0 is 0.6931471805599453\n",
      "Cost after 100 is 0.6436767556935213\n",
      "Cost after 200 is 0.6357371814059836\n",
      "Cost after 300 is 0.6285720456492652\n",
      "Cost after 400 is 0.6220395010251997\n",
      "Cost after 500 is 0.6160293786905876\n",
      "Cost after 600 is 0.6104550830063585\n",
      "Cost after 700 is 0.6052481726085716\n",
      "Cost after 800 is 0.6003541917337943\n",
      "Cost after 900 is 0.5957294843812225\n",
      "Cost after 1000 is 0.5913387663913113\n",
      "Cost after 1100 is 0.5871532754554301\n",
      "Cost after 1200 is 0.5831493591357294\n",
      "Cost after 1300 is 0.5793073939793076\n",
      "Cost after 1400 is 0.5756109548449317\n",
      "train accuracy: 67.94258373205741 %\n",
      "test accuracy: 38.0 %\n"
     ]
    },
    {
     "data": {
      "image/png": "[encoded data removed]",
      "text/plain": [
       "<matplotlib.figure.Figure at 0x7f0d9a094278>"
      ]
     },
     "metadata": {},
     "output_type": "display_data"
    }
   ],
   "source": [
    "learning_rates = [0.01,0.001,0.0001]\n",
    "models = {}\n",
    "for i in learning_rates:\n",
    "    print(f'learning rate is {learning_rates}')\n",
    "    models[str(i)] = model(train_set_x, train_set_y, test_set_x, test_set_y, num_iterations = 1500, learning_rate = i, print_cost = False)\n",
    "for i in learning_rates:\n",
    "    plt.plot(np.squeeze(models[str(i)][\"costs\"]), label= str(models[str(i)][\"learning_rate\"]))\n",
    "plt.ylabel('cost')\n",
    "plt.xlabel('iterations')\n",
    "\n",
    "legend = plt.legend(loc='upper center', shadow=True)\n",
    "frame = legend.get_frame()\n",
    "frame.set_facecolor('0.90')\n",
    "plt.show()"
   ]
  },
  {
   "cell_type": "code",
   "execution_count": 109,
   "metadata": {},
   "outputs": [
    {
     "name": "stdout",
     "output_type": "stream",
     "text": [
      "[[1 2 3 4 5 6 7]\n",
      " [7 6 5 4 3 2 1]\n",
      " [2 3 3 2 4 6 1]]\n"
     ]
    }
   ],
   "source": [
    "data = [[1,2,3,4,5,6,7],[7,6,5,4,3,2,1],[2,3,3,2,4,6,1]]\n",
    "plt.plot(np.squeeze(data),label=['a','b','c'])\n",
    "le = plt.legend(loc='upper center', shadow=True)\n",
    "frame = le.get_frame()\n",
    "frame.set_facecolor('0.90')\n",
    "plt.show()"
   ]
  },
  {
   "cell_type": "code",
   "execution_count": null,
   "metadata": {},
   "outputs": [],
   "source": []
  }
 ],
 "metadata": {
  "kernelspec": {
   "display_name": "Python 3",
   "language": "python",
   "name": "python3"
  },
  "language_info": {
   "codemirror_mode": {
    "name": "ipython",
    "version": 3
   },
   "file_extension": ".py",
   "mimetype": "text/x-python",
   "name": "python",
   "nbconvert_exporter": "python",
   "pygments_lexer": "ipython3",
   "version": "3.6.4"
  }
 },
 "nbformat": 4,
 "nbformat_minor": 2
}
